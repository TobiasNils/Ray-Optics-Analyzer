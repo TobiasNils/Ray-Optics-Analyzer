{
 "cells": [
  {
   "cell_type": "markdown",
   "metadata": {},
   "source": [
    "# Testing rotations"
   ]
  },
  {
   "cell_type": "code",
   "execution_count": 1,
   "metadata": {},
   "outputs": [
    {
     "name": "stdout",
     "output_type": "stream",
     "text": [
      "Loading component library Edmund  from files  ['/home/nils/.anaconda3/lib/python3.6/site-packages/pyoptools-0.1.1-py3.6-linux-x86_64.egg/pyoptools/raytrace/library/Edmund/edmund_spherical.cmp']\n",
      "Loading component library Thorlabs  from files  ['/home/nils/.anaconda3/lib/python3.6/site-packages/pyoptools-0.1.1-py3.6-linux-x86_64.egg/pyoptools/raytrace/library/Thorlabs/thorlabs_spherical.cmp']\n"
     ]
    }
   ],
   "source": [
    "from pyoptools.all import *"
   ]
  },
  {
   "cell_type": "code",
   "execution_count": 2,
   "metadata": {},
   "outputs": [
    {
     "data": {
      "application/vnd.jupyter.widget-view+json": {
       "model_id": "93095fa7fc2c4a5bb92236930461cc65",
       "version_major": 2,
       "version_minor": 0
      },
      "text/plain": [
       "Renderer(camera=OrthographicCamera(bottom=-225.0, children=(DirectionalLight(intensity=0.7, position=(0.0, 100…"
      ]
     },
     "metadata": {},
     "output_type": "display_data"
    }
   ],
   "source": [
    "# Rotations \n",
    "\n",
    "S=System()\n",
    "\n",
    "R=[Ray(pos=(0,0,0),dir=(1,0,0),wavelength=.450), # blue ray\n",
    "   Ray(pos=(0,0,0),dir=(0,1,0),wavelength=.550), # yellow ray\n",
    "   Ray(pos=(0,0,0),dir=(0,0,1),wavelength=.650)] # red ray\n",
    "\n",
    "\n",
    "\n",
    "S.ray_add(R)\n",
    "S.propagate()\n",
    "\n",
    "Plot3D(S,center=(0,0,0),size=(4,3),scale=150,rot=[(pi/2,pi/2,pi/2),(0,0,0)])"
   ]
  },
  {
   "cell_type": "code",
   "execution_count": 3,
   "metadata": {},
   "outputs": [
    {
     "data": {
      "application/vnd.jupyter.widget-view+json": {
       "model_id": "961e6b0123884f7c83fc369eb75638f3",
       "version_major": 2,
       "version_minor": 0
      },
      "text/plain": [
       "Renderer(camera=OrthographicCamera(bottom=-225.0, children=(DirectionalLight(intensity=0.7, position=(0.0, 100…"
      ]
     },
     "metadata": {},
     "output_type": "display_data"
    }
   ],
   "source": [
    "# \n",
    "\n",
    "\n",
    "S=System()\n",
    "\n",
    "R=[Ray(pos=(0,0,0),dir=(1,0,0),wavelength=.450), # Blue\n",
    "   Ray(pos=(0,0,0),dir=(0,1,0),wavelength=.550), # Yellow\n",
    "   Ray(pos=(0,0,0),dir=(0,0,1),wavelength=.650)] # Red\n",
    "\n",
    "\n",
    "\n",
    "S.ray_add(R)\n",
    "S.propagate()\n",
    "\n",
    "Plot3D(S,center=(0,0,0),size=(4,3),scale=150,rot=[(0,0,pi/2),(0,pi/2,0),(pi/2,0,0)])"
   ]
  },
  {
   "cell_type": "code",
   "execution_count": null,
   "metadata": {},
   "outputs": [],
   "source": []
  }
 ],
 "metadata": {
  "kernel_info": {
   "name": "python3"
  },
  "kernelspec": {
   "display_name": "Python 3",
   "language": "python",
   "name": "python3"
  },
  "language_info": {
   "codemirror_mode": {
    "name": "ipython",
    "version": 3
   },
   "file_extension": ".py",
   "mimetype": "text/x-python",
   "name": "python",
   "nbconvert_exporter": "python",
   "pygments_lexer": "ipython3",
   "version": "3.6.10"
  },
  "latex_envs": {
   "LaTeX_envs_menu_present": true,
   "autoclose": false,
   "autocomplete": true,
   "bibliofile": "biblio.bib",
   "cite_by": "apalike",
   "current_citInitial": 1,
   "eqLabelWithNumbers": true,
   "eqNumInitial": 1,
   "hotkeys": {
    "equation": "Ctrl-E",
    "itemize": "Ctrl-I"
   },
   "labels_anchors": false,
   "latex_user_defs": false,
   "report_style_numbering": false,
   "user_envs_cfg": false
  },
  "nteract": {
   "version": "0.15.0"
  },
  "toc": {
   "base_numbering": 1,
   "nav_menu": {},
   "number_sections": true,
   "sideBar": true,
   "skip_h1_title": false,
   "title_cell": "Table of Contents",
   "title_sidebar": "Contents",
   "toc_cell": false,
   "toc_position": {},
   "toc_section_display": true,
   "toc_window_display": true
  }
 },
 "nbformat": 4,
 "nbformat_minor": 2
}
