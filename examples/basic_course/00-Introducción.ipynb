{
 "cells": [
  {
   "cell_type": "markdown",
   "metadata": {},
   "source": [
    "# Introducción al pyOpTools"
   ]
  },
  {
   "cell_type": "code",
   "execution_count": null,
   "metadata": {},
   "outputs": [],
   "source": [
    "from IPython.lib.display import YouTubeVideo\n",
    "YouTubeVideo(\"DB8sfm7pVPI\",width=640,height=480)"
   ]
  },
  {
   "cell_type": "markdown",
   "metadata": {},
   "source": [
    "## Qué es el pyOpTools"
   ]
  },
  {
   "cell_type": "markdown",
   "metadata": {},
   "source": [
    "El pyOpTools son un conjunto de módulos para python que permiten simular el comportamiento de sistemas ópticos. \n",
    "Inicialmente estaba solo orientado al trazo de rayos, pero en la actualidad en la versión de desarrollo tiene algunas herramientas con las que se pueden simular campos ópticos y su propagación.\n",
    "\n",
    "En este curso se va a hacer una introducción a la simulación de sistemas ópticos por trazo de rayos."
   ]
  },
  {
   "cell_type": "markdown",
   "metadata": {},
   "source": [
    "## Características básicas del pyOpTools "
   ]
  },
  {
   "cell_type": "markdown",
   "metadata": {},
   "source": [
    "1. Es un programa de código abierto.\n",
    "2. Desarrollado por el Grupo de Óptica Aplicada de la [Universidad Nacional de Colombia](http://www.unal.edu.co).\n",
    "3. Basado en los lenguajes de programación [python](http://www.python.org) y [cython](http://www.cython.org).\n",
    "4. Esta basado en una arquitectura orientada a objetos.\n",
    "5. Realiza trazo de rayos no secuencial de sistemas complejos.\n",
    "6. Se puede ejecutar localmente para desarrollar programasque necesiten realizar tareas de simulación.\n",
    "7. Se puede ejecutar remotamente en un servidor a través de un navegador de internet, utilizando las capacidades del notebook de [IPython](http://ipython.org)"
   ]
  },
  {
   "cell_type": "markdown",
   "metadata": {},
   "source": [
    "## Algunas instrucciones necesarias antes de iniciar a trabajar"
   ]
  },
  {
   "cell_type": "markdown",
   "metadata": {},
   "source": [
    "Para este curso, se va a utilizar la capacidad del pyoptools de correr remotamente. Para esto, se va a utilizar el notebook de IPython, el cual es una herramienta que nos permite ejecutar en linea código escrito en python, utilizando un navegador web. \n",
    "\n",
    "Para acceder al servidor con el que se va a trabajar en el curso:\n",
    "\n",
    "****\n",
    "\n",
    "1. Entrar a la pagina [https://pyoptools.no-ip.info](https://pyoptools.no-ip.info)\n",
    "2. Teclear la contraseña *contrasenaipython*\n",
    "3. Seleccionar *new notebook*.\n",
    "\n",
    "****\n",
    "\n",
    "**Nota**: Aunque en este momento múltiples usuarios están trabajando sobre el mismo servidor, IPython todavía no funciona bien para el trabajo multiusuario. Para evitar problemas, antes de iniciar a trabajar, se recomienda cambiar el nombre del notebook a uno que contenga sus iniciales (ej: `RAO-primernotebook`).Esto con el fin de no sobrescribir el trabajo de otro participante del curso."
   ]
  },
  {
   "cell_type": "markdown",
   "metadata": {},
   "source": [
    "## Contenido del curso"
   ]
  },
  {
   "cell_type": "markdown",
   "metadata": {},
   "source": [
    "\n",
    "* Introducción a python\n",
    "* Superficies. Los elementos básicos para la simulación de sistemas ópticos en pyoptools.\n",
    "* Componentes. Ejemplos de como se arman componentes en pyoptools.\n",
    "* Sistemas ópticos. Simulando sistemas ópticos con el pyoptools."
   ]
  },
  {
   "cell_type": "code",
   "execution_count": null,
   "metadata": {
    "collapsed": true
   },
   "outputs": [],
   "source": []
  }
 ],
 "metadata": {
  "kernelspec": {
   "display_name": "Python 3",
   "language": "python",
   "name": "python3"
  },
  "language_info": {
   "codemirror_mode": {
    "name": "ipython",
    "version": 3
   },
   "file_extension": ".py",
   "mimetype": "text/x-python",
   "name": "python",
   "nbconvert_exporter": "python",
   "pygments_lexer": "ipython3",
   "version": "3.5.3"
  }
 },
 "nbformat": 4,
 "nbformat_minor": 1
}
