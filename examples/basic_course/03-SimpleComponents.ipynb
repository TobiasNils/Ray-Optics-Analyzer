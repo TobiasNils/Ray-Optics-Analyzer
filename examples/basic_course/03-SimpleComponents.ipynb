{
 "cells": [
  {
   "cell_type": "markdown",
   "metadata": {},
   "source": [
    "## Importar el pyoptools para poder realizar los calculos de trazo de rayos"
   ]
  },
  {
   "cell_type": "code",
   "execution_count": null,
   "metadata": {},
   "outputs": [],
   "source": [
    "from pyoptools.all import *"
   ]
  },
  {
   "cell_type": "markdown",
   "metadata": {},
   "source": [
    "## Creando componentes"
   ]
  },
  {
   "cell_type": "markdown",
   "metadata": {},
   "source": [
    "### Crear una lente esferica"
   ]
  },
  {
   "cell_type": "markdown",
   "metadata": {},
   "source": [
    "#### 1 - Crear las superficies con las que se van a crear la componente. "
   ]
  },
  {
   "cell_type": "code",
   "execution_count": null,
   "metadata": {},
   "outputs": [],
   "source": [
    "S0=Spherical(shape=Circular(radius=50),curvature=1./200.)\n",
    "S1=Spherical(shape=Circular(radius=50),curvature=1./200.)\n",
    "S2=Cylinder(radius=50,length=10)"
   ]
  },
  {
   "cell_type": "markdown",
   "metadata": {},
   "source": [
    "#### 2- Armar la componente con las superficies creadas"
   ]
  },
  {
   "cell_type": "code",
   "execution_count": null,
   "metadata": {},
   "outputs": [],
   "source": [
    "L1=Component(surflist=[(S0,(0,0,-5),(0,0,0)),\n",
    "                       (S1,(0,0,5),(0,0,0)),\n",
    "                       (S2,(0,0,6.5),(0,0,0))\n",
    "                       ],material=material.schott[\"BK7\"])\n",
    "Plot3D(L1,size=(120,120),scale=3,rot=[(pi/3,0,0)])"
   ]
  },
  {
   "cell_type": "markdown",
   "metadata": {},
   "source": [
    "### Crear un prisma de 90 grados"
   ]
  },
  {
   "cell_type": "code",
   "execution_count": null,
   "metadata": {},
   "outputs": [],
   "source": [
    "width=50\n",
    "height=50\n",
    "reflectivity=0.5\n",
    "        \n",
    "a_face= Plane(shape=Rectangular(size=(width,height)))\n",
    "b_face= Plane(shape=Rectangular(size=(width,height)))\n",
    "\n",
    "\n",
    "h=sqrt(2.)*width\n",
    "h_face= Plane (shape=Rectangular(size=(h,height)),reflectivity=reflectivity)\n",
    "        \n",
    "w2=width/2.\n",
    "\n",
    "e1=Plane (shape=Triangular(((-w2,w2),(-w2,-w2),(w2,-w2))))\n",
    "e2=Plane (shape=Triangular(((-w2,w2),(-w2,-w2),(w2,-w2))))"
   ]
  },
  {
   "cell_type": "code",
   "execution_count": null,
   "metadata": {},
   "outputs": [],
   "source": [
    "P=Component(surflist=[(a_face,(0,0,-width/2),(0,0,0)),\n",
    "                      (b_face,(width/2,0,0),(0,pi/2,0)),\n",
    "                      (h_face,(0,0,0),(0,-pi/4,0)),\n",
    "                      (e1,(0,height/2,0),(pi/2,-pi/2,0)),\n",
    "                      (e2,(0,height/2,0),(pi/2,-pi/2,0))\n",
    "                      ],material=material.schott[\"BK7\"])\n",
    "Plot3D(P,size=(120,120),scale=3,rot=[(pi/6,pi/8,0)])"
   ]
  },
  {
   "cell_type": "markdown",
   "metadata": {},
   "source": [
    "### Crear un cubo divisor de haz"
   ]
  },
  {
   "cell_type": "code",
   "execution_count": null,
   "metadata": {},
   "outputs": [],
   "source": [
    "def prisma(reflectivity=0):\n",
    "    width=50\n",
    "    height=50\n",
    "    a_face= Plane(shape=Rectangular(size=(width,height)))\n",
    "    b_face= Plane(shape=Rectangular(size=(width,height)))\n",
    "\n",
    "    h=sqrt(2.)*width\n",
    "    h_face= Plane (shape=Rectangular(size=(h,height)),reflectivity=reflectivity)\n",
    "        \n",
    "    w2=width/2.\n",
    "\n",
    "    e1=Plane (shape=Triangular(((-w2,w2),(-w2,-w2),(w2,-w2))))\n",
    "    e2=Plane (shape=Triangular(((-w2,w2),(-w2,-w2),(w2,-w2))))\n",
    "    P=Component(surflist=[(a_face,(0,0,-width/2),(0,0,0)),\n",
    "                      (b_face,(width/2,0,0),(0,pi/2,0)),\n",
    "                      (h_face,(0,0,0),(0,-pi/4,0)),\n",
    "                      (e1,(0,height/2,0),(pi/2,-pi/2,0)),\n",
    "                      (e2,(0,height/2,0),(pi/2,-pi/2,0))\n",
    "                      ],material=material.schott[\"BK7\"])\n",
    "    return P\n",
    "P1=prisma()\n",
    "P2=prisma(reflectivity=.5)\n",
    "\n",
    "cube=System(complist=[(P1,(0,0,0),(0,0,0)),(P2,(0,0,0),(0,pi,0))],n=1.)\n",
    "\n",
    "Plot3D(cube,size=(120,120),scale=3,rot=[(pi/6,pi/8,0)])"
   ]
  },
  {
   "cell_type": "code",
   "execution_count": null,
   "metadata": {},
   "outputs": [],
   "source": []
  }
 ],
 "metadata": {
  "kernelspec": {
   "display_name": "Python 3",
   "language": "python",
   "name": "python3"
  },
  "language_info": {
   "codemirror_mode": {
    "name": "ipython",
    "version": 3
   },
   "file_extension": ".py",
   "mimetype": "text/x-python",
   "name": "python",
   "nbconvert_exporter": "python",
   "pygments_lexer": "ipython3",
   "version": "3.5.3"
  }
 },
 "nbformat": 4,
 "nbformat_minor": 1
}
