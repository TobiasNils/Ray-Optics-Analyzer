{
 "cells": [
  {
   "cell_type": "markdown",
   "metadata": {},
   "source": [
    "# Ejemplo de un sistema mas complejo que involucra superficies reflectivas"
   ]
  },
  {
   "cell_type": "code",
   "execution_count": null,
   "metadata": {},
   "outputs": [],
   "source": [
    "from pyoptools.all import *"
   ]
  },
  {
   "cell_type": "code",
   "execution_count": null,
   "metadata": {},
   "outputs": [],
   "source": [
    "BS=BeamSplitingCube(size=25,reflectivity=.5,material=material.schott[\"BK7\"])\n",
    "L=library.Edmund.get(\"32494\")\n",
    "M1=Component(surflist=[(Plane(shape=Rectangular((25,25)) ,reflectivity=0.5),(0,0,0),(0,0,0))])\n",
    "M2=Component(surflist=[(Plane(shape=Rectangular((25,25)) ,reflectivity=1),(0,0,0),(0,0,0))])\n",
    "\n",
    "C=CCD()\n",
    "\n",
    "#Nota, hay problemas si existe una cavidad resonante\n",
    "S=System(complist=[(C,(20,0,20),(0,pi/2,0)),(BS,(0,0,20),(0,0,0)),(L,(0,0,156.),(0,-pi,0)),(M1,(0,0,170),(0,0,0)),(M2,(0,0,570),(.005,0,0))],n=1.)\n",
    "R=point_source_c(span=(0.06,0.06),wavelength=.65)\n",
    "\n",
    "\n",
    "S.ray_add(R)\n",
    "S.propagate()\n"
   ]
  },
  {
   "cell_type": "code",
   "execution_count": null,
   "metadata": {},
   "outputs": [],
   "source": [
    "Plot3D(S,center=(0,0,300), size=(600,100),scale=2,rot=[(0,0,-3*pi/8),(0,3*pi/8,0)])"
   ]
  },
  {
   "cell_type": "code",
   "execution_count": null,
   "metadata": {},
   "outputs": [],
   "source": [
    "%pylab inline\n",
    "spot_diagram(C)"
   ]
  },
  {
   "cell_type": "markdown",
   "metadata": {},
   "source": [
    "#Ejercicio \n",
    "Ajustar el montaje del colimador, para que forme imagen puntual cuando la superficie lejana sea esferica y no plana. Remplace \n",
    "el plano por una superficie esferica con un radio de curvatura de 1000 mm"
   ]
  },
  {
   "cell_type": "code",
   "execution_count": null,
   "metadata": {},
   "outputs": [],
   "source": [
    "BS=BeamSplitingCube(size=25,reflectivity=.5,material=material.schott[\"BK7\"])\n",
    "L=library.Edmund.get(\"32494\")\n",
    "M2=Component(surflist=[(Spherical(shape=Circular(radius=20),curvature=1./1000,reflectivity=1),(0,0,0),(0,0,0))])\n",
    "\n",
    "C=CCD()\n",
    "\n",
    "#Nota, hay problemas si existe una cavidad resonante\n",
    "S=System(complist=[(C,(20,0,20),(0,pi/2,0)),(BS,(0,0,20),(0,0,0)),(L,(0,0,176.5),(0,-pi,0)),(M2,(0,0,570),(.0,0,0))],n=1.)\n",
    "R=point_source_c(span=(0.06,0.06),wavelength=.65)\n",
    "\n",
    "\n",
    "S.ray_add(R)\n",
    "S.propagate()\n"
   ]
  },
  {
   "cell_type": "code",
   "execution_count": null,
   "metadata": {},
   "outputs": [],
   "source": [
    "Plot3D(S,center=(0,0,300), size=(600,100),scale=2,rot=[(0,0,-3*pi/8),(0,3*pi/8,0)])"
   ]
  },
  {
   "cell_type": "code",
   "execution_count": null,
   "metadata": {},
   "outputs": [],
   "source": [
    "spot_diagram(C)"
   ]
  },
  {
   "cell_type": "code",
   "execution_count": null,
   "metadata": {},
   "outputs": [],
   "source": [
    "Spherical?\n"
   ]
  },
  {
   "cell_type": "code",
   "execution_count": null,
   "metadata": {},
   "outputs": [],
   "source": []
  }
 ],
 "metadata": {
  "kernelspec": {
   "display_name": "Python 3",
   "language": "python",
   "name": "python3"
  },
  "language_info": {
   "codemirror_mode": {
    "name": "ipython",
    "version": 3
   },
   "file_extension": ".py",
   "mimetype": "text/x-python",
   "name": "python",
   "nbconvert_exporter": "python",
   "pygments_lexer": "ipython3",
   "version": "3.5.3"
  }
 },
 "nbformat": 4,
 "nbformat_minor": 1
}
